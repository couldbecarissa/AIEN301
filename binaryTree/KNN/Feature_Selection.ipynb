{
 "cells": [
  {
   "cell_type": "markdown",
   "metadata": {},
   "source": [
    "Source:https://scikit-learn.org/stable/auto_examples/feature_selection/plot_select_from_model_diabetes.html#sphx-glr-auto-examples-feature-selection-plot-select-from-model-diabetes-py"
   ]
  },
  {
   "cell_type": "code",
   "execution_count": 2,
   "metadata": {},
   "outputs": [],
   "source": [
    "import pandas as pd\n",
    "from sklearn.model_selection import train_test_split\n",
    "import matplotlib.pyplot as plt\n",
    "import numpy as np\n",
    "from sklearn.linear_model import RidgeCV\n",
    "from time import time\n",
    "from sklearn.feature_selection import SelectFromModel\n",
    "from sklearn.feature_selection import SequentialFeatureSelector"
   ]
  },
  {
   "cell_type": "markdown",
   "metadata": {},
   "source": [
    "Loading the given diabetes dataset +Standardizing the features."
   ]
  },
  {
   "cell_type": "code",
   "execution_count": 3,
   "metadata": {},
   "outputs": [],
   "source": [
    "import pandas as pd\n",
    "from sklearn.datasets import load_diabetes\n",
    "\n",
    "# Load the scikit-learn diabetes dataset\n",
    "sklearn_diabetes = load_diabetes()\n",
    "sklearn_format = pd.DataFrame(sklearn_diabetes.data, columns=sklearn_diabetes.feature_names)\n",
    "\n",
    "# Load your CSV\n",
    "data = pd.read_csv('diabetes.csv')\n",
    "\n",
    "# Standardize features like scikit-learn dataset\n",
    "def standardize(x):\n",
    "   return (x - x.mean()) / x.std()\n",
    "\n",
    "# Create matching features\n",
    "processed_data = pd.DataFrame({\n",
    "   'age': standardize(data['Age']),\n",
    "   'sex': standardize(data['Pregnancies']),  # Using pregnancies as proxy for sex\n",
    "   'bmi': standardize(data['BMI']),\n",
    "   'bp': standardize(data['BloodPressure']),\n",
    "   's1': standardize(data['SkinThickness']), \n",
    "   's2': standardize(data['Glucose']),\n",
    "   's3': standardize(data['DiabetesPedigreeFunction']),\n",
    "   's4': standardize(data['Insulin']),\n",
    "   's5': standardize(data['BMI'] * data['Age'] / 100),  # Creating derived feature\n",
    "   's6': standardize(data['DiabetesPedigreeFunction'] * data['Age'] / 100)  # Creating derived feature\n",
    "})\n",
    "\n",
    "# Add target variable\n",
    "processed_data['target'] = data['Outcome']"
   ]
  },
  {
   "cell_type": "code",
   "execution_count": 4,
   "metadata": {},
   "outputs": [],
   "source": [
    "x,y=processed_data[[col for col in processed_data.columns if col != 'target']],processed_data.target"
   ]
  },
  {
   "cell_type": "markdown",
   "metadata": {},
   "source": [
    "Feature importance from coefficients:Using the RidgeCV estimator. The features with the highest absolute coef_ value are considered the most important."
   ]
  },
  {
   "cell_type": "code",
   "execution_count": 5,
   "metadata": {},
   "outputs": [
    {
     "data": {
      "image/png": "[encoded data removed]",
      "text/plain": [
       "<Figure size 640x480 with 1 Axes>"
      ]
     },
     "metadata": {},
     "output_type": "display_data"
    }
   ],
   "source": [
    "\n",
    "\n",
    "ridge = RidgeCV(alphas=np.logspace(-6, 6, num=5)).fit(x, y)\n",
    "importance = np.abs(ridge.coef_)\n",
    "feature_names = np.array(x.columns)\n",
    "plt.bar(height=importance, x=feature_names)\n",
    "plt.title(\"Feature importances via coefficients\")\n",
    "plt.show()"
   ]
  },
  {
   "cell_type": "markdown",
   "metadata": {},
   "source": [
    "To select the two features which are the most important according to the coefficients, the SelectFrom Model accepts a threshold parameter and will select the features whose importance (defined by the coefficients) are above this threshold."
   ]
  },
  {
   "cell_type": "code",
   "execution_count": 6,
   "metadata": {},
   "outputs": [
    {
     "name": "stdout",
     "output_type": "stream",
     "text": [
      "Features selected by SelectFromModel: ['s2' 's5']\n",
      "Done in 0.001s\n"
     ]
    }
   ],
   "source": [
    "threshold = np.sort(importance)[-3] + 0.01\n",
    "tic = time()\n",
    "sfm = SelectFromModel(ridge, threshold=threshold).fit(x, y)\n",
    "toc = time()\n",
    "print(f\"Features selected by SelectFromModel: {feature_names[sfm.get_support()]}\")\n",
    "print(f\"Done in {toc - tic:.3f}s\")"
   ]
  },
  {
   "cell_type": "markdown",
   "metadata": {},
   "source": [
    "Selecting features with Sequential Feature Selection which is a greedy procedure where, at each iteration, we choose the best new feature to add to our selected features based a cross-validation score. That is, we start with 0 features and choose the best single feature with the highest score. The procedure is repeated until we reach the desired number of selected features."
   ]
  },
  {
   "cell_type": "code",
   "execution_count": 7,
   "metadata": {},
   "outputs": [
    {
     "name": "stdout",
     "output_type": "stream",
     "text": [
      "Features selected by forward sequential selection: ['s2' 's5']\n",
      "Done in 0.102s\n",
      "Features selected by backward sequential selection: ['bmi' 's2']\n",
      "Done in 0.285s\n"
     ]
    }
   ],
   "source": [
    "tic_fwd = time()\n",
    "sfs_forward = SequentialFeatureSelector(\n",
    "    ridge, n_features_to_select=2, direction=\"forward\"\n",
    ").fit(x, y)\n",
    "toc_fwd = time()\n",
    "\n",
    "tic_bwd = time()\n",
    "sfs_backward = SequentialFeatureSelector(\n",
    "    ridge, n_features_to_select=2, direction=\"backward\"\n",
    ").fit(x, y)\n",
    "toc_bwd = time()\n",
    "\n",
    "print(\n",
    "    \"Features selected by forward sequential selection: \"\n",
    "    f\"{feature_names[sfs_forward.get_support()]}\"\n",
    ")\n",
    "print(f\"Done in {toc_fwd - tic_fwd:.3f}s\")\n",
    "print(\n",
    "    \"Features selected by backward sequential selection: \"\n",
    "    f\"{feature_names[sfs_backward.get_support()]}\"\n",
    ")\n",
    "print(f\"Done in {toc_bwd - tic_bwd:.3f}s\")"
   ]
  },
  {
   "cell_type": "markdown",
   "metadata": {},
   "source": [
    "SequentialFeatureSelector can be used to remove features present in the dataset and return a smaller subset of the original features with direction=\"backward\" and a negative value of tol."
   ]
  },
  {
   "cell_type": "code",
   "execution_count": 8,
   "metadata": {},
   "outputs": [
    {
     "name": "stdout",
     "output_type": "stream",
     "text": [
      "\n",
      "tol: -0.01\n",
      "Features selected: ['sex' 'bmi' 's2']\n",
      "ROC AUC score: 0.826\n",
      "Done in 1.495s\n",
      "\n",
      "tol: -0.001\n",
      "Features selected: ['sex' 'bmi' 'bp' 's2' 's3']\n",
      "ROC AUC score: 0.837\n",
      "Done in 0.530s\n",
      "\n",
      "tol: -0.0001\n",
      "Features selected: ['sex' 'bmi' 'bp' 's1' 's2' 's3' 's5']\n",
      "ROC AUC score: 0.839\n",
      "Done in 0.401s\n"
     ]
    }
   ],
   "source": [
    "from sklearn.linear_model import LogisticRegression\n",
    "from sklearn.metrics import roc_auc_score\n",
    "from sklearn.pipeline import make_pipeline\n",
    "from sklearn.preprocessing import StandardScaler\n",
    "\n",
    "for tol in [-1e-2, -1e-3, -1e-4]:\n",
    "    start = time()\n",
    "    feature_selector = SequentialFeatureSelector(\n",
    "        LogisticRegression(),\n",
    "        n_features_to_select=\"auto\",\n",
    "        direction=\"backward\",\n",
    "        scoring=\"roc_auc\",\n",
    "        tol=tol,\n",
    "        n_jobs=2,\n",
    "    )\n",
    "    model = make_pipeline(StandardScaler(), feature_selector, LogisticRegression())\n",
    "    model.fit(x, y)\n",
    "    end = time()\n",
    "    print(f\"\\ntol: {tol}\")\n",
    "    print(f\"Features selected: {feature_names[model[1].get_support()]}\")\n",
    "    print(f\"ROC AUC score: {roc_auc_score(y, model.predict_proba(x)[:, 1]):.3f}\")\n",
    "    print(f\"Done in {end - start:.3f}s\")"
   ]
  },
  {
   "cell_type": "markdown",
   "metadata": {},
   "source": [
    "Univariate Feature Selection.\n",
    "Significant features have the highest scores"
   ]
  },
  {
   "cell_type": "code",
   "execution_count": 9,
   "metadata": {},
   "outputs": [],
   "source": [
    "from sklearn.feature_selection import SelectKBest, f_classif\n",
    "\n",
    "selector = SelectKBest(f_classif, k=4)\n",
    "selector.fit(x, y)\n",
    "scores = -np.log10(selector.pvalues_)\n",
    "scores /= scores.max()"
   ]
  },
  {
   "cell_type": "code",
   "execution_count": 10,
   "metadata": {},
   "outputs": [
    {
     "data": {
      "image/png": "[encoded data removed]",
      "text/plain": [
       "<Figure size 640x480 with 1 Axes>"
      ]
     },
     "metadata": {},
     "output_type": "display_data"
    }
   ],
   "source": [
    "X_indices = np.arange(x.shape[-1])\n",
    "plt.figure(1)\n",
    "plt.clf()\n",
    "plt.bar(X_indices - 0.05, scores, width=0.2)\n",
    "plt.title(\"Feature univariate score\")\n",
    "plt.xlabel(\"Feature number\")\n",
    "plt.ylabel(r\"Univariate score ($-Log(p_{value})$)\")\n",
    "plt.show()"
   ]
  },
  {
   "cell_type": "markdown",
   "metadata": {},
   "source": [
    "removing features with low variance"
   ]
  },
  {
   "cell_type": "code",
   "execution_count": 11,
   "metadata": {},
   "outputs": [
    {
     "data": {
      "text/plain": [
       "array([[ 1.42506672,  0.63953049,  0.20387991, ...,  1.35547016,\n",
       "         1.20167746,  1.        ],\n",
       "       [-0.19054773, -0.84433482, -0.68397621, ..., -0.53543397,\n",
       "        -0.3817803 ,  0.        ],\n",
       "       [-0.10551539,  1.23307662, -1.10253696, ..., -0.71006739,\n",
       "         0.44000248,  1.        ],\n",
       "       ...,\n",
       "       [-0.27558007,  0.34275743, -0.73471085, ..., -0.62076118,\n",
       "        -0.6549343 ,  0.        ],\n",
       "       [ 1.1699697 , -0.84433482, -0.24004815, ...,  0.76901135,\n",
       "         0.04539512,  1.        ],\n",
       "       [-0.87080644, -0.84433482, -0.20199718, ..., -0.81263689,\n",
       "        -0.66305698,  0.        ]])"
      ]
     },
     "execution_count": 11,
     "metadata": {},
     "output_type": "execute_result"
    }
   ],
   "source": [
    "from sklearn.feature_selection import VarianceThreshold\n",
    "X = processed_data\n",
    "sel = VarianceThreshold(threshold=(.8 * (1 - .8)))\n",
    "sel.fit_transform(X)"
   ]
  }
 ],
 "metadata": {
  "kernelspec": {
   "display_name": "Python 3",
   "language": "python",
   "name": "python3"
  },
  "language_info": {
   "codemirror_mode": {
    "name": "ipython",
    "version": 3
   },
   "file_extension": ".py",
   "mimetype": "text/x-python",
   "name": "python",
   "nbconvert_exporter": "python",
   "pygments_lexer": "ipython3",
   "version": "3.12.5"
  }
 },
 "nbformat": 4,
 "nbformat_minor": 2
}
