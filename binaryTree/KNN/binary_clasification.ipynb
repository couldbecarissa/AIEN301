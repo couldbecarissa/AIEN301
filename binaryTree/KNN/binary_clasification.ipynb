{
 "cells": [
  {
   "cell_type": "markdown",
   "metadata": {},
   "source": [
    "The easiest way to predict whether a problem is a classification or regression problem is by checking the continuity of the output given.In cases where there is a ontinous output,it is a regression problem and vice versa."
   ]
  },
  {
   "cell_type": "markdown",
   "metadata": {},
   "source": [
    "For the given diabetes dataset:\n",
    "Threshold is:Glucose,BMI and Pregnancies.\n",
    "The means of the three values are taken and values below the man are branded as a 0.Those above are 1."
   ]
  },
  {
   "cell_type": "code",
   "execution_count": 17,
   "metadata": {},
   "outputs": [],
   "source": [
    "import pandas as pd\n",
    "import numpy as np\n",
    "import matplotlib.pyplot as plt"
   ]
  },
  {
   "cell_type": "code",
   "execution_count": 18,
   "metadata": {},
   "outputs": [],
   "source": [
    "# Load your CSV\n",
    "data = pd.read_csv('diabetes.csv')\n",
    "\n",
    "# Standardize features like scikit-learn dataset\n",
    "def standardize(x):\n",
    "   return (x - x.mean()) / x.std()\n",
    "\n",
    "# Create matching features\n",
    "processed_data = pd.DataFrame({\n",
    "   'age': standardize(data['Age']),\n",
    "   'sex': standardize(data['Pregnancies']),  # Using pregnancies as proxy for sex\n",
    "   'bmi': standardize(data['BMI']),\n",
    "   'bp': standardize(data['BloodPressure']),\n",
    "   's1': standardize(data['SkinThickness']), \n",
    "   's2': standardize(data['Glucose']),\n",
    "   's3': standardize(data['DiabetesPedigreeFunction']),\n",
    "   's4': standardize(data['Insulin']),\n",
    "   's5': standardize(data['BMI'] * data['Age'] / 100),  # Creating derived feature\n",
    "   's6': standardize(data['DiabetesPedigreeFunction'] * data['Age'] / 100)  # Creating derived feature\n",
    "})\n",
    "\n",
    "processed_data = processed_data[['s2', 'bmi', 'sex']]\n",
    "processed_data['actual_value']=data['Outcome']\n"
   ]
  },
  {
   "cell_type": "code",
   "execution_count": 19,
   "metadata": {},
   "outputs": [
    {
     "name": "stdout",
     "output_type": "stream",
     "text": [
      "           s2       bmi       sex  actual_value\n",
      "0    0.847771  0.203880  0.639530             1\n",
      "1   -1.122665 -0.683976 -0.844335             0\n",
      "2    1.942458 -1.102537  1.233077             1\n",
      "3   -0.997558 -0.493721 -0.844335             0\n",
      "4    0.503727  1.408828 -1.141108             1\n",
      "..        ...       ...       ...           ...\n",
      "763 -0.622237  0.115094  1.826623             0\n",
      "764  0.034575  0.609757 -0.547562             0\n",
      "765  0.003299 -0.734711  0.342757             0\n",
      "766  0.159683 -0.240048 -0.844335             1\n",
      "767 -0.872451 -0.201997 -0.844335             0\n",
      "\n",
      "[768 rows x 4 columns]\n"
     ]
    }
   ],
   "source": [
    "print(processed_data)"
   ]
  },
  {
   "cell_type": "code",
   "execution_count": 20,
   "metadata": {},
   "outputs": [],
   "source": [
    "def normalization(x):\n",
    "    return (x-min(x))/(max(x)-min(x))"
   ]
  },
  {
   "cell_type": "code",
   "execution_count": 21,
   "metadata": {},
   "outputs": [],
   "source": [
    "processed_data['bmi']=normalization(processed_data['bmi'])\n",
    "processed_data['bmi'] = (processed_data['bmi'] >= processed_data['bmi'].mean()).astype(int)\n"
   ]
  },
  {
   "cell_type": "code",
   "execution_count": 22,
   "metadata": {},
   "outputs": [],
   "source": [
    "def normalize_and_binarize(dataframe, columns):\n",
    "    for column in columns:\n",
    "        dataframe[column] = normalization(dataframe[column])\n",
    "        dataframe[column] = (dataframe[column] >= dataframe[column].mean()).astype(int)\n",
    "    \n",
    "    return dataframe\n",
    "\n",
    "columns_to_process = ['bmi', 's2', 'sex'] \n",
    "processed_data = normalize_and_binarize(processed_data, columns_to_process)"
   ]
  },
  {
   "cell_type": "code",
   "execution_count": 23,
   "metadata": {},
   "outputs": [],
   "source": [
    "processed_data['pred_value']=((processed_data['s2']==processed_data['bmi'])\n",
    "                               &(processed_data['s2']==processed_data['sex'])).astype(int)\n",
    "\n",
    "processed_data=processed_data[['pred_value','actual_value']]"
   ]
  },
  {
   "cell_type": "markdown",
   "metadata": {},
   "source": [
    "There are four classifications we need to group the data into from this moment on:\n",
    "True Positive(TP)-When actual_value is 1 and pred_value is 1\n",
    "True Negative(TN)-actual_value is 0 and pred_ value is 0\n",
    "False Positive(FP)-actual value is 0 and pred_value is 1\n",
    "False Negative(FN)-actual_value is 1 and pred_value is 0"
   ]
  },
  {
   "cell_type": "code",
   "execution_count": 24,
   "metadata": {},
   "outputs": [
    {
     "data": {
      "text/plain": [
       "actual_value\n",
       "0    500\n",
       "1    268\n",
       "Name: count, dtype: int64"
      ]
     },
     "execution_count": 24,
     "metadata": {},
     "output_type": "execute_result"
    }
   ],
   "source": [
    "processed_data['actual_value'].value_counts()"
   ]
  },
  {
   "cell_type": "code",
   "execution_count": 25,
   "metadata": {},
   "outputs": [
    {
     "data": {
      "text/plain": [
       "pred_value\n",
       "0    507\n",
       "1    261\n",
       "Name: count, dtype: int64"
      ]
     },
     "execution_count": 25,
     "metadata": {},
     "output_type": "execute_result"
    }
   ],
   "source": [
    "processed_data['pred_value'].value_counts()"
   ]
  },
  {
   "cell_type": "code",
   "execution_count": 26,
   "metadata": {},
   "outputs": [],
   "source": [
    "processed_data['TP']=((processed_data['actual_value']==1)\n",
    "                      & (processed_data['pred_value']==1)).astype(int)\n",
    "processed_data['TN']=((processed_data['actual_value']==0)\n",
    "                      & (processed_data['pred_value']==0)).astype(int)\n",
    "processed_data['FP']=((processed_data['actual_value']==0)\n",
    "                      & (processed_data['pred_value']==1)).astype(int)\n",
    "processed_data['FN']=((processed_data['actual_value']==1)\n",
    "                      & (processed_data['pred_value']==0)).astype(int)"
   ]
  },
  {
   "cell_type": "code",
   "execution_count": 27,
   "metadata": {},
   "outputs": [
    {
     "name": "stdout",
     "output_type": "stream",
     "text": [
      "     pred_value  actual_value  TP  TN  FP  FN\n",
      "0             1             1   1   0   0   0\n",
      "1             1             0   0   0   1   0\n",
      "2             0             1   0   0   0   1\n",
      "3             1             0   0   0   1   0\n",
      "4             0             1   0   0   0   1\n",
      "..          ...           ...  ..  ..  ..  ..\n",
      "763           0             0   0   1   0   0\n",
      "764           0             0   0   1   0   0\n",
      "765           0             0   0   1   0   0\n",
      "766           0             1   0   0   0   1\n",
      "767           1             0   0   0   1   0\n",
      "\n",
      "[768 rows x 6 columns]\n"
     ]
    }
   ],
   "source": [
    "print(processed_data)"
   ]
  },
  {
   "cell_type": "markdown",
   "metadata": {},
   "source": [
    "Finding the valuecounts for each category"
   ]
  },
  {
   "cell_type": "code",
   "execution_count": 28,
   "metadata": {},
   "outputs": [
    {
     "data": {
      "text/plain": [
       "TP\n",
       "0    690\n",
       "1     78\n",
       "Name: count, dtype: int64"
      ]
     },
     "execution_count": 28,
     "metadata": {},
     "output_type": "execute_result"
    }
   ],
   "source": [
    "processed_data['TP'].value_counts()"
   ]
  },
  {
   "cell_type": "code",
   "execution_count": 29,
   "metadata": {},
   "outputs": [
    {
     "data": {
      "text/plain": [
       "TN\n",
       "0    451\n",
       "1    317\n",
       "Name: count, dtype: int64"
      ]
     },
     "execution_count": 29,
     "metadata": {},
     "output_type": "execute_result"
    }
   ],
   "source": [
    "processed_data['TN'].value_counts()"
   ]
  },
  {
   "cell_type": "code",
   "execution_count": 30,
   "metadata": {},
   "outputs": [
    {
     "data": {
      "text/plain": [
       "FP\n",
       "0    585\n",
       "1    183\n",
       "Name: count, dtype: int64"
      ]
     },
     "execution_count": 30,
     "metadata": {},
     "output_type": "execute_result"
    }
   ],
   "source": [
    "processed_data['FP'].value_counts()"
   ]
  },
  {
   "cell_type": "code",
   "execution_count": 31,
   "metadata": {},
   "outputs": [
    {
     "data": {
      "text/plain": [
       "FN\n",
       "0    578\n",
       "1    190\n",
       "Name: count, dtype: int64"
      ]
     },
     "execution_count": 31,
     "metadata": {},
     "output_type": "execute_result"
    }
   ],
   "source": [
    "processed_data['FN'].value_counts()"
   ]
  },
  {
   "cell_type": "code",
   "execution_count": 33,
   "metadata": {},
   "outputs": [],
   "source": [
    "conf_matrix=[[78,183],[190,317]]"
   ]
  },
  {
   "cell_type": "code",
   "execution_count": 41,
   "metadata": {},
   "outputs": [
    {
     "name": "stdout",
     "output_type": "stream",
     "text": [
      "{'Accuracy': 0.5143229166666666, 'Precision': 0.291044776119403, 'Recall': 0.2988505747126437}\n"
     ]
    }
   ],
   "source": [
    "metrics={\n",
    "    'Accuracy':395/768,\n",
    "    'Precision':78/268,\n",
    "    'Recall':78/261    \n",
    "}\n",
    "print(metrics)"
   ]
  },
  {
   "cell_type": "code",
   "execution_count": null,
   "metadata": {},
   "outputs": [],
   "source": []
  }
 ],
 "metadata": {
  "kernelspec": {
   "display_name": "Python 3",
   "language": "python",
   "name": "python3"
  },
  "language_info": {
   "codemirror_mode": {
    "name": "ipython",
    "version": 3
   },
   "file_extension": ".py",
   "mimetype": "text/x-python",
   "name": "python",
   "nbconvert_exporter": "python",
   "pygments_lexer": "ipython3",
   "version": "3.12.5"
  }
 },
 "nbformat": 4,
 "nbformat_minor": 2
}
